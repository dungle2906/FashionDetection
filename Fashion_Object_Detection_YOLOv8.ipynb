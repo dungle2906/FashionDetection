{
 "cells": [
  {
   "cell_type": "markdown",
   "metadata": {},
   "source": [
    "# YOLOv8\n",
    "YOLOv8 is the newest state-of-the-art YOLO model that can be used for object detection, image classification, and instance segmentation tasks.<br>\n",
    "YOLOv8 includes numerous architectural and developer experience changes and improvements over YOLOv5.<br>\n",
    "\n",
    "## Why Should I Use YOLOv8?\n",
    "* YOLOv8 has a high rate of accuracy measured by COCO and Roboflow 100.\n",
    "* YOLOv8 comes with a lot of developer-convenience features, from an easy-to-use CLI to a well-structured Python package."
   ]
  },
  {
   "cell_type": "markdown",
   "metadata": {},
   "source": [
    "## Install ultralytics"
   ]
  },
  {
   "cell_type": "code",
   "execution_count": null,
   "metadata": {
    "_kg_hide-output": true,
    "execution": {
     "iopub.execute_input": "2024-09-23T06:37:05.214262Z",
     "iopub.status.busy": "2024-09-23T06:37:05.213220Z",
     "iopub.status.idle": "2024-09-23T06:37:17.183462Z",
     "shell.execute_reply": "2024-09-23T06:37:17.182356Z",
     "shell.execute_reply.started": "2024-09-23T06:37:05.214193Z"
    },
    "trusted": true
   },
   "outputs": [],
   "source": [
    "# Install ultralytics\n",
    "!pip install ultralytics"
   ]
  },
  {
   "cell_type": "code",
   "execution_count": 10,
   "metadata": {
    "execution": {
     "iopub.execute_input": "2024-09-23T06:37:17.186206Z",
     "iopub.status.busy": "2024-09-23T06:37:17.185831Z",
     "iopub.status.idle": "2024-09-23T06:37:17.194620Z",
     "shell.execute_reply": "2024-09-23T06:37:17.193281Z",
     "shell.execute_reply.started": "2024-09-23T06:37:17.186146Z"
    },
    "trusted": true
   },
   "outputs": [],
   "source": [
    "%matplotlib inline\n",
    "\n",
    "import numpy as np\n",
    "import matplotlib.pyplot as plt\n",
    "import random\n",
    "import os\n",
    "import cv2\n",
    "import shutil\n",
    "import tqdm\n",
    "import glob"
   ]
  },
  {
   "cell_type": "code",
   "execution_count": 11,
   "metadata": {
    "execution": {
     "iopub.execute_input": "2024-09-23T06:37:17.195981Z",
     "iopub.status.busy": "2024-09-23T06:37:17.195671Z",
     "iopub.status.idle": "2024-09-23T06:37:17.209524Z",
     "shell.execute_reply": "2024-09-23T06:37:17.208380Z",
     "shell.execute_reply.started": "2024-09-23T06:37:17.195948Z"
    },
    "trusted": true
   },
   "outputs": [
    {
     "name": "stdout",
     "output_type": "stream",
     "text": [
      "Using torch 1.13.0 (Tesla P100-PCIE-16GB)\n"
     ]
    }
   ],
   "source": [
    "# Check GPU is working or not\n",
    "import torch\n",
    "print(f\"Using torch {torch.__version__} ({torch.cuda.get_device_properties(0).name if torch.cuda.is_available() else 'CPU'})\")"
   ]
  },
  {
   "cell_type": "code",
   "execution_count": 12,
   "metadata": {
    "execution": {
     "iopub.execute_input": "2024-09-23T06:37:17.211224Z",
     "iopub.status.busy": "2024-09-23T06:37:17.210908Z",
     "iopub.status.idle": "2024-09-23T06:37:17.220097Z",
     "shell.execute_reply": "2024-09-23T06:37:17.219019Z",
     "shell.execute_reply.started": "2024-09-23T06:37:17.211182Z"
    },
    "trusted": true
   },
   "outputs": [],
   "source": [
    "images_path = '/kaggle/input/colorful-fashion-dataset-for-object-detection/colorful_fashion_dataset_for_object_detection/JPEGImages/'\n",
    "annotations_path  = '/kaggle/input/colorful-fashion-dataset-for-object-detection/colorful_fashion_dataset_for_object_detection/Annotations_txt/'\n",
    "path = '/kaggle/input/colorful-fashion-dataset-for-object-detection/colorful_fashion_dataset_for_object_detection/'"
   ]
  },
  {
   "cell_type": "markdown",
   "metadata": {},
   "source": [
    "# Try YOLOv8"
   ]
  },
  {
   "cell_type": "code",
   "execution_count": 13,
   "metadata": {
    "execution": {
     "iopub.execute_input": "2024-09-23T06:37:17.223354Z",
     "iopub.status.busy": "2024-09-23T06:37:17.222923Z",
     "iopub.status.idle": "2024-09-23T06:37:17.344080Z",
     "shell.execute_reply": "2024-09-23T06:37:17.342852Z",
     "shell.execute_reply.started": "2024-09-23T06:37:17.223323Z"
    },
    "trusted": true
   },
   "outputs": [],
   "source": [
    "from ultralytics import YOLO\n",
    "\n",
    "# load pre-trained model\n",
    "detection_model = YOLO(\"yolov8m.pt\")"
   ]
  },
  {
   "cell_type": "code",
   "execution_count": null,
   "metadata": {
    "execution": {
     "iopub.execute_input": "2024-09-23T06:37:17.345776Z",
     "iopub.status.busy": "2024-09-23T06:37:17.345469Z",
     "iopub.status.idle": "2024-09-23T06:37:18.552226Z",
     "shell.execute_reply": "2024-09-23T06:37:18.550693Z",
     "shell.execute_reply.started": "2024-09-23T06:37:17.345747Z"
    },
    "trusted": true
   },
   "outputs": [],
   "source": [
    "# choose random image\n",
    "img = random.choice(os.listdir(images_path))\n",
    "\n",
    "i=detection_model.predict(source='https://i.stack.imgur.com/GRdCC.jpg', conf=0.5, save=True, line_thickness=2, hide_labels=False)\n",
    "\n",
    "im = plt.imread('/kaggle/working/runs/detect/predict/GRdCC.jpg')\n",
    "plt.figure(figsize=(20,10))\n",
    "plt.axis('off')\n",
    "plt.imshow(im)"
   ]
  },
  {
   "cell_type": "markdown",
   "metadata": {},
   "source": [
    "# Plot Training Data with Annotations"
   ]
  },
  {
   "cell_type": "code",
   "execution_count": 15,
   "metadata": {
    "_kg_hide-input": true,
    "execution": {
     "iopub.execute_input": "2024-09-23T06:37:18.554324Z",
     "iopub.status.busy": "2024-09-23T06:37:18.553715Z",
     "iopub.status.idle": "2024-09-23T06:37:18.566234Z",
     "shell.execute_reply": "2024-09-23T06:37:18.565188Z",
     "shell.execute_reply.started": "2024-09-23T06:37:18.554290Z"
    },
    "trusted": true
   },
   "outputs": [],
   "source": [
    "def convert(size,x,y,w,h):\n",
    "    box = np.zeros(4)\n",
    "    dw = 1./size[0]\n",
    "    dh = 1./size[1]\n",
    "    x = x/dw\n",
    "    w = w/dw\n",
    "    y = y/dh\n",
    "    h = h/dh\n",
    "    box[0] = x-(w/2.0)\n",
    "    box[1] = x+(w/2.0)\n",
    "    box[2] = y-(h/2.0)\n",
    "    box[3] = y+(h/2.0)\n",
    "\n",
    "    return (box)\n",
    "\n",
    "def plot_annotations(img, filename):\n",
    "    with open(annotations_path+filename, 'r') as f:\n",
    "        for line in f:\n",
    "            value = line.split()\n",
    "            cls = int(value[0])\n",
    "            x = float(value[1])\n",
    "            y = float(value[2])\n",
    "            w = float(value[3])\n",
    "            h = float(value[4])\n",
    "            \n",
    "            img_h, img_w = img.shape[:2]\n",
    "            bb = convert((img_w, img_h), x,y,w,h)\n",
    "            cv2.rectangle(img, (int(round(bb[0])),int(round(bb[2]))),(int(round(bb[1])),int(round(bb[3]))),(255,0,0),2)\n",
    "            plt.axis('off')\n",
    "            plt.imshow(img)"
   ]
  },
  {
   "cell_type": "code",
   "execution_count": null,
   "metadata": {
    "execution": {
     "iopub.execute_input": "2024-09-23T06:37:18.567833Z",
     "iopub.status.busy": "2024-09-23T06:37:18.567487Z",
     "iopub.status.idle": "2024-09-23T06:37:18.825634Z",
     "shell.execute_reply": "2024-09-23T06:37:18.823727Z",
     "shell.execute_reply.started": "2024-09-23T06:37:18.567802Z"
    },
    "trusted": true
   },
   "outputs": [],
   "source": [
    "import os\n",
    "import random\n",
    "import matplotlib.pyplot as plt\n",
    "import cv2\n",
    "import numpy as np\n",
    "\n",
    "plt.figure(figsize=(20,12))\n",
    "ls = os.listdir(images_path)\n",
    "c = 1\n",
    "for i in random.sample(ls, 10):\n",
    "    img = plt.imread(images_path+i)\n",
    "    i = i.rstrip('.jpg') + '.txt'\n",
    "    plt.subplot(2,5, c)\n",
    "    plot_annotations(img, i)\n",
    "    c+=1"
   ]
  },
  {
   "cell_type": "markdown",
   "metadata": {},
   "source": [
    "# Prepare Dataset"
   ]
  },
  {
   "cell_type": "code",
   "execution_count": null,
   "metadata": {
    "execution": {
     "iopub.status.busy": "2024-09-23T06:37:18.826746Z",
     "iopub.status.idle": "2024-09-23T06:37:18.827118Z",
     "shell.execute_reply": "2024-09-23T06:37:18.826955Z",
     "shell.execute_reply.started": "2024-09-23T06:37:18.826937Z"
    },
    "trusted": true
   },
   "outputs": [],
   "source": [
    "train = []\n",
    "with open(path+'ImageSets/Main/trainval.txt', 'r') as f:\n",
    "    for line in f.readlines():\n",
    "        if line[-1]=='\\n':\n",
    "            line = line[:-1]\n",
    "        train.append(line)\n",
    "\n",
    "test = []\n",
    "with open(path+'ImageSets/Main/test.txt', 'r') as f:\n",
    "    for line in f.readlines():\n",
    "        if line[-1]=='\\n':\n",
    "            line = line[:-1]\n",
    "        test.append(line)"
   ]
  },
  {
   "cell_type": "code",
   "execution_count": null,
   "metadata": {
    "execution": {
     "iopub.status.busy": "2024-09-23T06:37:18.828468Z",
     "iopub.status.idle": "2024-09-23T06:37:18.828961Z",
     "shell.execute_reply": "2024-09-23T06:37:18.828726Z",
     "shell.execute_reply.started": "2024-09-23T06:37:18.828701Z"
    },
    "trusted": true
   },
   "outputs": [],
   "source": [
    "len(train), len(test)"
   ]
  },
  {
   "cell_type": "code",
   "execution_count": null,
   "metadata": {
    "execution": {
     "iopub.status.busy": "2024-09-23T06:37:18.831021Z",
     "iopub.status.idle": "2024-09-23T06:37:18.831418Z",
     "shell.execute_reply": "2024-09-23T06:37:18.831247Z",
     "shell.execute_reply.started": "2024-09-23T06:37:18.831227Z"
    },
    "trusted": true
   },
   "outputs": [],
   "source": [
    "os.mkdir('train')\n",
    "os.mkdir('train/images')\n",
    "os.mkdir('train/labels')\n",
    "\n",
    "os.mkdir('test')\n",
    "os.mkdir('test/images')\n",
    "os.mkdir('test/labels')"
   ]
  },
  {
   "cell_type": "code",
   "execution_count": null,
   "metadata": {
    "execution": {
     "iopub.status.busy": "2024-09-23T06:37:18.832838Z",
     "iopub.status.idle": "2024-09-23T06:37:18.833250Z",
     "shell.execute_reply": "2024-09-23T06:37:18.833050Z",
     "shell.execute_reply.started": "2024-09-23T06:37:18.833031Z"
    },
    "trusted": true
   },
   "outputs": [],
   "source": [
    "train_path = '/kaggle/working/train/'\n",
    "test_path = '/kaggle/working/test/'\n",
    "\n",
    "print('Copying Train Data..!!')\n",
    "for i in tqdm.tqdm(train):\n",
    "    a = shutil.copyfile(images_path+i+'.jpg', train_path+'images/'+i+'.jpg')\n",
    "    a = shutil.copyfile(annotations_path+i+'.txt', train_path+'labels/'+i+'.txt')\n",
    "\n",
    "print('Copying Test Data..!!')\n",
    "for i in tqdm.tqdm(test):\n",
    "    a = shutil.copyfile(images_path+i+'.jpg', test_path+'images/'+i+'.jpg')\n",
    "    a = shutil.copyfile(annotations_path+i+'.txt', test_path+'labels/'+i+'.txt')"
   ]
  },
  {
   "cell_type": "markdown",
   "metadata": {},
   "source": [
    "# Train Custom Model"
   ]
  },
  {
   "cell_type": "code",
   "execution_count": null,
   "metadata": {
    "execution": {
     "iopub.status.busy": "2024-09-23T06:37:18.834939Z",
     "iopub.status.idle": "2024-09-23T06:37:18.835346Z",
     "shell.execute_reply": "2024-09-23T06:37:18.835138Z",
     "shell.execute_reply.started": "2024-09-23T06:37:18.835120Z"
    },
    "trusted": true
   },
   "outputs": [],
   "source": [
    "text = \"\"\"\n",
    "train: /kaggle/working/train\n",
    "val: /kaggle/working/test\n",
    "\n",
    "# number of classes\n",
    "nc: 10\n",
    "\n",
    "# class names\n",
    "names: ['sunglass','hat','jacket','shirt','pants','shorts','skirt','dress','bag','shoe']\n",
    "\"\"\"\n",
    "with open(\"data.yaml\", 'w') as file:\n",
    "    file.write(text)"
   ]
  },
  {
   "cell_type": "code",
   "execution_count": null,
   "metadata": {
    "_kg_hide-output": true,
    "execution": {
     "iopub.status.busy": "2024-09-23T06:37:18.836585Z",
     "iopub.status.idle": "2024-09-23T06:37:18.836949Z",
     "shell.execute_reply": "2024-09-23T06:37:18.836783Z",
     "shell.execute_reply.started": "2024-09-23T06:37:18.836765Z"
    },
    "trusted": true
   },
   "outputs": [],
   "source": [
    "model = YOLO(\"yolov8m.pt\")\n",
    "\n",
    "model.train(data='data.yaml', epochs=5)"
   ]
  },
  {
   "cell_type": "code",
   "execution_count": null,
   "metadata": {
    "_kg_hide-input": true,
    "execution": {
     "iopub.status.busy": "2024-09-23T06:37:18.838954Z",
     "iopub.status.idle": "2024-09-23T06:37:18.839364Z",
     "shell.execute_reply": "2024-09-23T06:37:18.839183Z",
     "shell.execute_reply.started": "2024-09-23T06:37:18.839140Z"
    },
    "trusted": true
   },
   "outputs": [],
   "source": [
    "%matplotlib inline\n",
    "model_path = 'runs/detect/train/'\n",
    "\n",
    "def plot(ls, size):\n",
    "    c=1\n",
    "    plt.figure(figsize=(15,10))\n",
    "    for im in ls:\n",
    "        plt.subplot(size[0],size[1],c)\n",
    "        im = plt.imread(model_path+im)\n",
    "        plt.imshow(im)\n",
    "        c+=1\n",
    "    plt.show()\n",
    "\n",
    "plot(['P_curve.png','R_curve.png'], (1,2))\n",
    "plot(['F1_curve.png','PR_curve.png'], (1,2))\n",
    "plot(['confusion_matrix.png','labels.jpg'], (1,2))\n",
    "plot(['results.png'],(1,1))"
   ]
  },
  {
   "cell_type": "markdown",
   "metadata": {},
   "source": [
    "# Test Model"
   ]
  },
  {
   "cell_type": "code",
   "execution_count": null,
   "metadata": {
    "execution": {
     "iopub.status.busy": "2024-09-23T06:37:18.840798Z",
     "iopub.status.idle": "2024-09-23T06:37:18.841203Z",
     "shell.execute_reply": "2024-09-23T06:37:18.840998Z",
     "shell.execute_reply.started": "2024-09-23T06:37:18.840980Z"
    },
    "trusted": true
   },
   "outputs": [],
   "source": [
    "# choose random image from dataset\n",
    "plt.figure(figsize=(20,20))\n",
    "imgs = random.sample(os.listdir(images_path), 6)\n",
    "c=1\n",
    "for img in imgs:\n",
    "    i=model.predict(source=images_path+img, conf=0.4, save=True, line_thickness=2)\n",
    "\n",
    "    im = plt.imread('/kaggle/working/runs/detect/predict2/'+img)\n",
    "    plt.subplot(2,3,c)\n",
    "    plt.axis('off')\n",
    "    plt.imshow(im)\n",
    "    c+=1"
   ]
  }
 ],
 "metadata": {
  "kaggle": {
   "accelerator": "gpu",
   "dataSources": [
    {
     "datasetId": 1942455,
     "sourceId": 3200379,
     "sourceType": "datasetVersion"
    }
   ],
   "dockerImageVersionId": 30408,
   "isGpuEnabled": true,
   "isInternetEnabled": true,
   "language": "python",
   "sourceType": "notebook"
  },
  "kernelspec": {
   "display_name": "Python 3",
   "language": "python",
   "name": "python3"
  },
  "language_info": {
   "codemirror_mode": {
    "name": "ipython",
    "version": 3
   },
   "file_extension": ".py",
   "mimetype": "text/x-python",
   "name": "python",
   "nbconvert_exporter": "python",
   "pygments_lexer": "ipython3",
   "version": "3.7.12"
  }
 },
 "nbformat": 4,
 "nbformat_minor": 4
}
